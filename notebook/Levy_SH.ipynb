{
 "cells": [
  {
   "cell_type": "code",
   "execution_count": 10,
   "metadata": {},
   "outputs": [],
   "source": [
    "def get_epsln_candidate(F, G, domain, epsln_candidate):\n",
    "    epsln_list = []\n",
    "    \n",
    "    for epsln in epsln_candidate:\n",
    "        for x in domain:            \n",
    "            cond = (F(x - epsln) -epsln <= G(x)) and  (G(x) <= F(x + epsln) + epsln)\n",
    "            if not cond:\n",
    "                break\n",
    "                \n",
    "        if cond:\n",
    "            epsln_list.append(epsln)\n",
    "    \n",
    "    return epsln_list"
   ]
  },
  {
   "cell_type": "code",
   "execution_count": 1,
   "metadata": {},
   "outputs": [],
   "source": [
    "import numpy as np\n",
    "import matplotlib.pyplot as plt\n",
    "\n",
    "import scipy.stats"
   ]
  },
  {
   "cell_type": "code",
   "execution_count": 18,
   "metadata": {},
   "outputs": [],
   "source": [
    "def Levy(F, G, domain, epsln_candidate):\n",
    "    return min(get_epsln_candidate(F, G, domain, epsln_candidate))"
   ]
  },
  {
   "cell_type": "code",
   "execution_count": 107,
   "metadata": {},
   "outputs": [
    {
     "name": "stdout",
     "output_type": "stream",
     "text": [
      "[[ 0.70710678 -0.70710678]\n",
      " [ 0.70710678  0.70710678]]\n"
     ]
    },
    {
     "data": {
      "image/png": "[encoded data removed]",
      "text/plain": [
       "<matplotlib.figure.Figure at 0x26efefc5a90>"
      ]
     },
     "metadata": {},
     "output_type": "display_data"
    },
    {
     "name": "stdout",
     "output_type": "stream",
     "text": [
      "0.2712601837092352\n"
     ]
    }
   ],
   "source": [
    "from pylab import rcParams\n",
    "\n",
    "rcParams['figure.figsize'] = 5,5\n",
    "\n",
    "norm = scipy.stats.norm.pdf\n",
    "\n",
    "start = -10\n",
    "end = 10\n",
    "bins = 1000\n",
    "D = np.linspace(start, end, bins+1)\n",
    "\n",
    "width = (end-start)/bins\n",
    "\n",
    "mu_list = [0]\n",
    "sigma_list = [1]\n",
    "coef_list = np.array([1])\n",
    "coef_list = coef_list / len(coef_list)\n",
    "\n",
    "shifter = lambda f, alpha: lambda x: f(x - alpha)\n",
    "gm = lambda x: sum([coef_list[i] * norm(x, mu_list[i], sigma_list[i]) for i in range(1)])\n",
    "\n",
    "theta = np.sqrt(2)/2\n",
    "R = np.array([[theta,-theta],[theta,theta]])\n",
    "print(R)\n",
    "\n",
    "shifts = np.array(range(2))\n",
    "xys = np.zeros([2,2,bins+1])\n",
    "for i,shift in enumerate(shifts):\n",
    "    #plt.plot(D,(shifter(gm, shift))(D))\n",
    "    xy = np.array([D,(shifter(gm, shift))(D)])\n",
    "    xy = np.dot(R,xy)\n",
    "    plt.scatter(xy[0],xy[1])\n",
    "    xys[i] = xy\n",
    "plt.xlim(-4,4)\n",
    "plt.ylim(-4,4)\n",
    "plt.show()\n",
    "m = 0\n",
    "xj=0\n",
    "yj=0\n",
    "mx = 0\n",
    "my = 0\n",
    "\n",
    "for i in range(bins+1):\n",
    "    x0 = xys[0,0,i]\n",
    "    y0 = xys[0,1,i]\n",
    "    while x0>xys[1,0,xj] and xj < bins:\n",
    "        xj=xj+1\n",
    "        mx = np.abs(y0-xys[1,1,int(xj)])\n",
    "    while y0>xys[1,1,yj] and yj < bins:\n",
    "        if yj < bins:\n",
    "            yj=yj+1\n",
    "        my = np.abs(x0-xys[1,0,int(yj)])\n",
    "    m = np.max([m,np.min([mx,my])])\n",
    "print(m)"
   ]
  },
  {
   "cell_type": "code",
   "execution_count": 62,
   "metadata": {},
   "outputs": [
    {
     "name": "stdout",
     "output_type": "stream",
     "text": [
      "0.27117342631938457\n"
     ]
    }
   ],
   "source": [
    "m = 0\n",
    "xj=0\n",
    "yj=0\n",
    "mx = 0\n",
    "my = 0\n",
    "\n",
    "for i in range(bins+1):\n",
    "    x0 = xys[0,0,i]\n",
    "    y0 = xys[0,1,i]\n",
    "    while x0>xys[1,0,xj] and xj < bins:\n",
    "        xj=xj+1\n",
    "        mx = np.abs(y0-xys[1,1,int(xj)])\n",
    "    while y0>xys[1,1,yj] and yj < bins:\n",
    "        if yj < bins:\n",
    "            yj=yj+1\n",
    "        my = np.abs(x0-xys[1,0,int(yj)])\n",
    "    m = np.max([m,np.min([mx,my])])\n",
    "print(m)"
   ]
  },
  {
   "cell_type": "code",
   "execution_count": 68,
   "metadata": {},
   "outputs": [
    {
     "ename": "NameError",
     "evalue": "name 'Levy' is not defined",
     "output_type": "error",
     "traceback": [
      "\u001b[1;31m---------------------------------------------------------------------------\u001b[0m",
      "\u001b[1;31mNameError\u001b[0m                                 Traceback (most recent call last)",
      "\u001b[1;32m<ipython-input-68-4289abb3808b>\u001b[0m in \u001b[0;36m<module>\u001b[1;34m()\u001b[0m\n\u001b[0;32m      9\u001b[0m \u001b[0mstart\u001b[0m \u001b[1;33m=\u001b[0m \u001b[0mtime\u001b[0m\u001b[1;33m.\u001b[0m\u001b[0mtime\u001b[0m\u001b[1;33m(\u001b[0m\u001b[1;33m)\u001b[0m\u001b[1;33m\u001b[0m\u001b[0m\n\u001b[0;32m     10\u001b[0m \u001b[1;32mfor\u001b[0m \u001b[0mshift\u001b[0m \u001b[1;32min\u001b[0m \u001b[0mshifts\u001b[0m\u001b[1;33m:\u001b[0m\u001b[1;33m\u001b[0m\u001b[0m\n\u001b[1;32m---> 11\u001b[1;33m     \u001b[0mlvs\u001b[0m\u001b[1;33m.\u001b[0m\u001b[0mappend\u001b[0m\u001b[1;33m(\u001b[0m\u001b[0mLevy\u001b[0m\u001b[1;33m(\u001b[0m\u001b[0mgm\u001b[0m\u001b[1;33m,\u001b[0m \u001b[0mshifter\u001b[0m\u001b[1;33m(\u001b[0m\u001b[0mgm\u001b[0m\u001b[1;33m,\u001b[0m \u001b[0mshift\u001b[0m\u001b[1;33m)\u001b[0m\u001b[1;33m,\u001b[0m \u001b[0mD\u001b[0m\u001b[1;33m,\u001b[0m \u001b[0mepsln_candidate\u001b[0m\u001b[1;33m)\u001b[0m\u001b[1;33m)\u001b[0m\u001b[1;33m\u001b[0m\u001b[0m\n\u001b[0m\u001b[0;32m     12\u001b[0m \u001b[0mt\u001b[0m \u001b[1;33m=\u001b[0m \u001b[0mtime\u001b[0m\u001b[1;33m.\u001b[0m\u001b[0mtime\u001b[0m\u001b[1;33m(\u001b[0m\u001b[1;33m)\u001b[0m \u001b[1;33m-\u001b[0m \u001b[0mstart\u001b[0m\u001b[1;33m\u001b[0m\u001b[0m\n\u001b[0;32m     13\u001b[0m \u001b[0mprint\u001b[0m\u001b[1;33m(\u001b[0m\u001b[1;34m'time:'\u001b[0m\u001b[1;33m+\u001b[0m\u001b[0mstr\u001b[0m\u001b[1;33m(\u001b[0m\u001b[0mt\u001b[0m\u001b[1;33m)\u001b[0m\u001b[1;33m+\u001b[0m\u001b[1;34m'[sec]'\u001b[0m\u001b[1;33m)\u001b[0m\u001b[1;33m\u001b[0m\u001b[0m\n",
      "\u001b[1;31mNameError\u001b[0m: name 'Levy' is not defined"
     ]
    }
   ],
   "source": [
    "import time\n",
    "\n",
    "lvs = []\n",
    "#domain_step = abs(D[0] - D[1])\n",
    "domain_step = 0.01\n",
    "epsln_candidate = np.arange(0, 1, domain_step)\n",
    "#print(epsln_candidate)\n",
    "start = time.time()\n",
    "for shift in shifts:   \n",
    "    lvs.append(Levy(gm, shifter(gm, shift), D, epsln_candidate))\n",
    "t = time.time() - start\n",
    "print('time:'+str(t)+'[sec]')\n",
    "\n",
    "plt.xlabel='Shift'\n",
    "plt.plot(shifts, lvs, label='levy')\n",
    "#plt.xlim([0,10])\n",
    "plt.legend()\n",
    "\n",
    "plt.show()"
   ]
  },
  {
   "cell_type": "code",
   "execution_count": 65,
   "metadata": {},
   "outputs": [],
   "source": [
    "#関数Levyの代わりにこれを使うと手元タスク10倍早くなった\n",
    "#max_v：Levy最大値\n",
    "#traial：2^{-traial}がLevy距離の探索幅になる\n",
    "def Levy_H(F, G, domain, max_v, trial):\n",
    "    levy = 0\n",
    "    epsln = max_v\n",
    "    for x in domain:\n",
    "        cond = (F(x - epsln) -epsln <= G(x)) and  (G(x) <= F(x + epsln) + epsln)\n",
    "        if not cond:\n",
    "            levy = max_v\n",
    "            return levy\n",
    "    add_eps = [np.power(0.5,i+1) for i in range(trial)]\n",
    "    for i in range(int(trial)):\n",
    "        #epsln = levy + max_v*np.power(0.5,i+1)\n",
    "        epsln = levy + add_eps[i]\n",
    "        for x in domain:            \n",
    "            cond = (F(x - epsln) -epsln <= G(x)) and  (G(x) <= F(x + epsln) + epsln)\n",
    "            if not cond:\n",
    "                levy = epsln\n",
    "                break\n",
    "    return levy\n",
    "\n"
   ]
  },
  {
   "cell_type": "code",
   "execution_count": 95,
   "metadata": {},
   "outputs": [],
   "source": [
    "def Levy_SH(F, G, domain):\n",
    "    theta = np.sqrt(2)/2\n",
    "    R = np.array([[theta,-theta],[theta,theta]])\n",
    "\n",
    "    xys = np.zeros([2,2,bins+1])\n",
    "    xyF = np.array([domain,[F(x) for x in domain ]])\n",
    "    xys[0]=np.dot(R,xyF)\n",
    "    xyG = np.array([domain,[G(x) for x in domain ]])\n",
    "    xys[1]=np.dot(R,xyG)\n",
    "    m = 0\n",
    "    xj=0\n",
    "    yj=0\n",
    "    mx = 0\n",
    "    my = 0\n",
    "\n",
    "    for i in range(bins+1):\n",
    "        x0 = xys[0,0,i]\n",
    "        y0 = xys[0,1,i]\n",
    "        while x0>xys[1,0,xj] and xj < bins:\n",
    "            xj=xj+1\n",
    "        mx = np.abs(y0-xys[1,1,int(xj)])\n",
    "        while y0>xys[1,1,yj] and yj < bins:\n",
    "            if yj < bins:\n",
    "                yj=yj+1\n",
    "        my = np.abs(x0-xys[1,0,int(yj)])\n",
    "        m = np.max([m,np.min([mx,my])])\n",
    "    return m"
   ]
  },
  {
   "cell_type": "code",
   "execution_count": 102,
   "metadata": {},
   "outputs": [
    {
     "name": "stdout",
     "output_type": "stream",
     "text": [
      "time:9.190230131149292[sec]\n"
     ]
    },
    {
     "data": {
      "image/png": "[encoded data removed]",
      "text/plain": [
       "<matplotlib.figure.Figure at 0x26eff1a57f0>"
      ]
     },
     "metadata": {},
     "output_type": "display_data"
    }
   ],
   "source": [
    "import time\n",
    "\n",
    "lvs = []\n",
    "#domain_step = abs(D[0] - D[1])\n",
    "shifts = np.linspace(0,4,51)\n",
    "domain_step = 0.01\n",
    "epsln_candidate = np.arange(0, 1, domain_step)\n",
    "#print(epsln_candidate)\n",
    "start = time.time()\n",
    "for shift in shifts:   \n",
    "    lvs.append(Levy_H(gm, shifter(gm, shift), D, 1.0, 8))\n",
    "    #lvs.append(Levy_SH(gm, shifter(gm, shift), D))\n",
    "t = time.time() - start\n",
    "print('time:'+str(t)+'[sec]')\n",
    "\n",
    "plt.xlabel='Shift'\n",
    "plt.plot(shifts, lvs, label='levy')\n",
    "#plt.xlim([0,10])\n",
    "plt.legend()\n",
    "\n",
    "plt.show()"
   ]
  },
  {
   "cell_type": "code",
   "execution_count": 110,
   "metadata": {},
   "outputs": [
    {
     "name": "stdout",
     "output_type": "stream",
     "text": [
      "time:7.133593559265137[sec]\n"
     ]
    },
    {
     "data": {
      "image/png": "[encoded data removed]",
      "text/plain": [
       "<matplotlib.figure.Figure at 0x26eff16c668>"
      ]
     },
     "metadata": {},
     "output_type": "display_data"
    }
   ],
   "source": [
    "import time\n",
    "\n",
    "start = -10\n",
    "end = 10\n",
    "bins = 1000\n",
    "D = np.linspace(start, end, bins+1)\n",
    "\n",
    "lvs = []\n",
    "#domain_step = abs(D[0] - D[1])\n",
    "shifts = np.linspace(0,4,51)\n",
    "\n",
    "start = time.time()\n",
    "for shift in shifts:   \n",
    "    #lvs.append(Levy_H(gm, shifter(gm, shift), D, 1.0, 8))\n",
    "    lvs.append(Levy_SH(gm, shifter(gm, shift), D)*np.sqrt(0.5))\n",
    "t = time.time() - start\n",
    "print('time:'+str(t)+'[sec]')\n",
    "\n",
    "plt.xlabel='Shift'\n",
    "plt.plot(shifts, lvs, label='levy')\n",
    "#plt.xlim([0,10])\n",
    "plt.legend()\n",
    "\n",
    "plt.show()"
   ]
  },
  {
   "cell_type": "code",
   "execution_count": 81,
   "metadata": {},
   "outputs": [
    {
     "name": "stdout",
     "output_type": "stream",
     "text": [
      "[0, 1, 4, 9, 16, 25, 36, 49, 64, 81]\n"
     ]
    }
   ],
   "source": [
    "print([x*x for x in range(10)])"
   ]
  },
  {
   "cell_type": "code",
   "execution_count": null,
   "metadata": {},
   "outputs": [],
   "source": []
  }
 ],
 "metadata": {
  "kernelspec": {
   "display_name": "Python 3",
   "language": "python",
   "name": "python3"
  },
  "language_info": {
   "codemirror_mode": {
    "name": "ipython",
    "version": 3
   },
   "file_extension": ".py",
   "mimetype": "text/x-python",
   "name": "python",
   "nbconvert_exporter": "python",
   "pygments_lexer": "ipython3",
   "version": "3.6.4"
  }
 },
 "nbformat": 4,
 "nbformat_minor": 2
}
